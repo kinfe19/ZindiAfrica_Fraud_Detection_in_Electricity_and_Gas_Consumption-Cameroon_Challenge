{
  "nbformat": 4,
  "nbformat_minor": 0,
  "metadata": {
    "kernelspec": {
      "name": "python3",
      "display_name": "Python 3",
      "language": "python"
    },
    "language_info": {
      "name": "python",
      "version": "3.7.6",
      "mimetype": "text/x-python",
      "codemirror_mode": {
        "name": "ipython",
        "version": 3
      },
      "pygments_lexer": "ipython3",
      "nbconvert_exporter": "python",
      "file_extension": ".py"
    },
    "colab": {
      "name": "[Best version] ranked 2nd fraud_detection_Cameroon_from_zindi.ipynb",
      "provenance": [],
      "collapsed_sections": []
    },
    "accelerator": "TPU"
  },
  "cells": [
    {
      "cell_type": "code",
      "metadata": {
        "id": "AwJG1Ls8BgNI",
        "colab": {
          "base_uri": "https://localhost:8080/"
        },
        "outputId": "ab0754a1-6ba3-4b00-9baa-a130ef39d57a"
      },
      "source": [
        "  from google.colab import drive\n",
        "drive.mount('/content/drive')"
      ],
      "execution_count": null,
      "outputs": [
        {
          "output_type": "stream",
          "text": [
            "Mounted at /content/drive\n"
          ],
          "name": "stdout"
        }
      ]
    },
    {
      "cell_type": "markdown",
      "metadata": {
        "id": "WGfj2fXGPHNs"
      },
      "source": [
        "<h2>Importing libraries</h2>"
      ]
    },
    {
      "cell_type": "code",
      "metadata": {
        "_uuid": "8f2839f25d086af736a60e9eeb907d3b93b6e0e5",
        "_cell_guid": "b1076dfc-b9ad-4769-8c92-a6c4dae69d19",
        "trusted": true,
        "id": "KAVB94XPPHOh"
      },
      "source": [
        "import numpy as np\n",
        "import pandas as pd\n",
        "import matplotlib.pyplot as plt\n",
        "import seaborn as sns\n",
        "from sklearn import preprocessing\n",
        "from sklearn.metrics import f1_score, precision_recall_curve\n",
        "from sklearn.model_selection import StratifiedKFold\n",
        "from lightgbm import LGBMClassifier\n",
        "import time\n",
        "seed=47"
      ],
      "execution_count": null,
      "outputs": []
    },
    {
      "cell_type": "code",
      "metadata": {
        "_uuid": "d629ff2d2480ee46fbb7e2d37f6b5fab8052498a",
        "_cell_guid": "79c7e3d0-c299-4dcb-8224-4455121ee9b0",
        "trusted": true,
        "id": "0JX8u2IUPHOy"
      },
      "source": [
        "invoice_test = pd.read_csv('/content/drive/MyDrive/Colab Notebooks/Zindi/data/invoice_test.csv',low_memory=False,)\n",
        "invoice_train = pd.read_csv('/content/drive/MyDrive/Colab Notebooks/Zindi/data/invoice_train.csv',low_memory=False)\n",
        "client_test = pd.read_csv('/content/drive/MyDrive/Colab Notebooks/Zindi/data/client_test.csv',low_memory=False)\n",
        "client_train = pd.read_csv('/content/drive/MyDrive/Colab Notebooks/Zindi/data/client_train.csv',low_memory=False)\n",
        "sample_submission = pd.read_csv('/content/drive/MyDrive/Colab Notebooks/Zindi/data/SampleSubmission.csv',low_memory=False)"
      ],
      "execution_count": null,
      "outputs": []
    },
    {
      "cell_type": "code",
      "metadata": {
        "id": "IQHwl-83ffxG"
      },
      "source": [
        "sample_submission.head() #Fake!!  submit the class of client"
      ],
      "execution_count": null,
      "outputs": []
    },
    {
      "cell_type": "code",
      "metadata": {
        "id": "W3iGKJT215lW"
      },
      "source": [
        "invoice_test['counter_statue'] = invoice_test['counter_statue'].astype('int64') #It's initialy an object"
      ],
      "execution_count": null,
      "outputs": []
    },
    {
      "cell_type": "markdown",
      "metadata": {
        "id": "yuqe46C8PHO-"
      },
      "source": [
        "<h2>Basic EDA</h2>\n",
        "\n",
        "We won't show full EDA, just want to attract your attention to tips which help us to reach good score.\n",
        "\n",
        "In next two cells you will find value counts according each column in train and test set. This information we'll use in feature engeneering  "
      ]
    },
    {
      "cell_type": "code",
      "metadata": {
        "trusted": true,
        "id": "PTI5D75hPHTb"
      },
      "source": [
        "ds = client_train.groupby(['target'])['client_id'].count()\n",
        "plt.bar(x=ds.index, height=ds.values, tick_label =[0,1])\n",
        "plt.title('target distribution')\n",
        "plt.show()"
      ],
      "execution_count": null,
      "outputs": []
    },
    {
      "cell_type": "code",
      "metadata": {
        "trusted": true,
        "id": "N7uf-YVpPHTo"
      },
      "source": [
        "for col in ['disrict','region','client_catg']:\n",
        "    ds = client_train.groupby([col])['client_id'].count()\n",
        "    plt.bar(x=ds.index, height=ds.values)\n",
        "    plt.title(col+' distribution')\n",
        "    plt.show()"
      ],
      "execution_count": null,
      "outputs": []
    },
    {
      "cell_type": "code",
      "metadata": {
        "trusted": true,
        "id": "jbySGCuPPHTt"
      },
      "source": [
        "print('Number of missing rows in invoice_train:',invoice_train.isna().sum().sum())\n",
        "print('Number of missing rows in invoice_test:',invoice_test.isna().sum().sum(),'\\n')\n",
        "print('Number of missing rows in client_train:',client_train.isna().sum().sum())\n",
        "print('Number of missing rows in client_test:',client_test.isna().sum().sum())"
      ],
      "execution_count": null,
      "outputs": []
    },
    {
      "cell_type": "code",
      "metadata": {
        "trusted": true,
        "id": "puJG_FQSPHT2"
      },
      "source": [
        "print('Number of unique values in invoice_train:')\n",
        "for col in invoice_train.columns:\n",
        "    print(f\"{col} - {invoice_train[col].nunique()}\")"
      ],
      "execution_count": null,
      "outputs": []
    },
    {
      "cell_type": "markdown",
      "metadata": {
        "id": "6pe727UQ0vdu"
      },
      "source": [
        "Clear counter_statue  : it's Object on train set and int on test set"
      ]
    },
    {
      "cell_type": "markdown",
      "metadata": {
        "id": "LiDvS_myPHT7"
      },
      "source": [
        "<h2>Feature engeneering</h2>\n",
        "\n",
        "In this part we want to explain the most powerful decision in our notebook - feature creation"
      ]
    },
    {
      "cell_type": "code",
      "metadata": {
        "trusted": true,
        "id": "E45pqFU3PHT_"
      },
      "source": [
        "def feature_change(cl, inv):\n",
        "\n",
        "    cl['client_catg'] = cl['client_catg'].astype('category')\n",
        "    cl['disrict'] = cl['disrict'].astype('category')\n",
        "    cl['region'] = cl['region'].astype('category')\n",
        "    cl['region_group'] = cl['region'].apply(lambda x: 100 if x<100 else 300 if x>300 else 200)\n",
        "    cl['creation_date'] = pd.to_datetime(cl['creation_date'])\n",
        "    \n",
        "    cl['coop_time'] = (2019 - cl['creation_date'].dt.year)*12 - cl['creation_date'].dt.month\n",
        "\n",
        "    inv['counter_type'] = inv['counter_type'].map({\"ELEC\":1,\"GAZ\":0})\n",
        "    inv['counter_statue'] = inv['counter_statue'].map({0:0,1:1,2:2,3:3,4:4,5:5,'0':0,'1':1,'2':2,'3':3,'4':4,'5':5,'769':5,'A':0,'618':5,'269375':5,'46':5,'420':5})\n",
        "    \n",
        "    inv['invoice_date'] = pd.to_datetime(inv['invoice_date'], dayfirst=True)\n",
        "    inv['invoice_month'] = inv['invoice_date'].dt.month\n",
        "    inv['invoice_year'] = inv['invoice_date'].dt.year\n",
        "    inv['is_weekday'] = ((pd.DatetimeIndex(inv.invoice_date).dayofweek) // 5 == 1).astype(float)\n",
        "    inv['delta_index'] = inv['new_index'] - inv['old_index']\n",
        "    \n",
        "    return cl, inv"
      ],
      "execution_count": null,
      "outputs": []
    },
    {
      "cell_type": "markdown",
      "metadata": {
        "id": "xK5ENBzDPHUN"
      },
      "source": [
        "* 'client_catg', 'district' and 'region' were assigned as categories to use them as categorical features in lgbm (as for me, lgbm for default threats with cat features slightly better than other encoders such as catboost/target encoder)\n",
        "* 'region_group' created simply by dividing 'region' in 3 groups (we purposed that regions weren't randomly decoded)\n",
        "* 'coop_time' - amount of time since account creation in months\n",
        "* 'counter_type' was binary encoded \n",
        "* 'counter_statue' cleaned from mislabeled values\n",
        "* extracted month, year from 'invoice_date', also added binary feature - 'is_weekday'\n",
        "* not sure about any logical sense in 'delta_index', but it improved score"
      ]
    },
    {
      "cell_type": "code",
      "metadata": {
        "trusted": true,
        "id": "5-6zvaddPHUP"
      },
      "source": [
        "client_train1, invoice_train1 = feature_change(client_train, invoice_train)\n",
        "client_test1, invoice_test1 = feature_change(client_test, invoice_test)"
      ],
      "execution_count": null,
      "outputs": []
    },
    {
      "cell_type": "code",
      "metadata": {
        "trusted": true,
        "id": "8KmHO01nPHUR"
      },
      "source": [
        "def agg_feature(invoice, client_df, agg_stat):\n",
        "    \n",
        "    invoice['delta_time'] = invoice.sort_values(['client_id','invoice_date']).groupby('client_id')['invoice_date'].diff().dt.days.reset_index(drop=True)\n",
        "    agg_trans = invoice.groupby('client_id')[agg_stat+['delta_time']].agg(['mean','std','min','max'])\n",
        "    \n",
        "    agg_trans.columns = ['_'.join(col).strip() for col in agg_trans.columns.values]\n",
        "    agg_trans.reset_index(inplace=True)\n",
        "\n",
        "    df = invoice.groupby('client_id').size().reset_index(name='transactions_count')\n",
        "    agg_trans = pd.merge(df, agg_trans, on='client_id', how='left')\n",
        "    \n",
        "    weekday_avg = invoice.groupby('client_id')[['is_weekday']].agg(['mean'])\n",
        "    weekday_avg.columns = ['_'.join(col).strip() for col in weekday_avg.columns.values]\n",
        "    weekday_avg.reset_index(inplace=True)\n",
        "    client_df = pd.merge(client_df, weekday_avg, on='client_id', how='left')\n",
        "    \n",
        "    full_df = pd.merge(client_df, agg_trans, on='client_id', how='left')\n",
        "    \n",
        "    full_df['invoice_per_cooperation'] = full_df['transactions_count'] / full_df['coop_time']\n",
        "    \n",
        "    return full_df"
      ],
      "execution_count": null,
      "outputs": []
    },
    {
      "cell_type": "markdown",
      "metadata": {
        "id": "9I27YhU2PHUY"
      },
      "source": [
        "* created some aggregation features (min/max/mean/std) over continious columns per every client\n",
        "* added 'delta_time' - amount of time between invoices for each user\n",
        "* created 'invoice_per_cooperation' - number of transactions per some amount of time"
      ]
    },
    {
      "cell_type": "code",
      "metadata": {
        "trusted": true,
        "id": "s1seuI3ePHUa"
      },
      "source": [
        "agg_stat_columns = [\n",
        " 'tarif_type',\n",
        " 'counter_number',\n",
        " 'counter_statue',\n",
        " 'counter_code',\n",
        " 'reading_remarque',\n",
        " 'consommation_level_1',\n",
        " 'consommation_level_2',\n",
        " 'consommation_level_3',\n",
        " 'consommation_level_4',\n",
        " 'old_index',\n",
        " 'new_index',\n",
        " 'months_number',\n",
        " 'counter_type',\n",
        " 'invoice_month',\n",
        " 'invoice_year',\n",
        " 'delta_index'\n",
        "]\n",
        "\n",
        "train_df1 = agg_feature(invoice_train1, client_train1, agg_stat_columns)\n",
        "test_df1 = agg_feature(invoice_test1, client_test1, agg_stat_columns)"
      ],
      "execution_count": null,
      "outputs": []
    },
    {
      "cell_type": "code",
      "metadata": {
        "id": "ZtgIkDBNpbb_"
      },
      "source": [
        "#Replace all NaN values by the most frequent value of the corresponding feature\n",
        "train_df1 = train_df1.apply(lambda x:x.fillna(x.value_counts().index[0]))\n",
        "test_df1 = test_df1.apply(lambda x:x.fillna(x.value_counts().index[0]))"
      ],
      "execution_count": null,
      "outputs": []
    },
    {
      "cell_type": "code",
      "metadata": {
        "id": "2SArXNnugJDP"
      },
      "source": [
        "train_df1_na = test_df1[test_df1.isnull().any(axis=1)] #has it NaN values in the dataset??"
      ],
      "execution_count": null,
      "outputs": []
    },
    {
      "cell_type": "code",
      "metadata": {
        "colab": {
          "base_uri": "https://localhost:8080/",
          "height": 69
        },
        "id": "149vZHyayrjn",
        "outputId": "c91bc34a-12e4-4cb4-e463-50d713aaac2f"
      },
      "source": [
        "train_df1_na.head()"
      ],
      "execution_count": null,
      "outputs": [
        {
          "output_type": "execute_result",
          "data": {
            "text/html": [
              "<div>\n",
              "<style scoped>\n",
              "    .dataframe tbody tr th:only-of-type {\n",
              "        vertical-align: middle;\n",
              "    }\n",
              "\n",
              "    .dataframe tbody tr th {\n",
              "        vertical-align: top;\n",
              "    }\n",
              "\n",
              "    .dataframe thead th {\n",
              "        text-align: right;\n",
              "    }\n",
              "</style>\n",
              "<table border=\"1\" class=\"dataframe\">\n",
              "  <thead>\n",
              "    <tr style=\"text-align: right;\">\n",
              "      <th></th>\n",
              "      <th>disrict</th>\n",
              "      <th>client_id</th>\n",
              "      <th>client_catg</th>\n",
              "      <th>region</th>\n",
              "      <th>creation_date</th>\n",
              "      <th>region_group</th>\n",
              "      <th>coop_time</th>\n",
              "      <th>is_weekday_mean</th>\n",
              "      <th>transactions_count</th>\n",
              "      <th>tarif_type_mean</th>\n",
              "      <th>tarif_type_std</th>\n",
              "      <th>tarif_type_min</th>\n",
              "      <th>tarif_type_max</th>\n",
              "      <th>counter_number_mean</th>\n",
              "      <th>counter_number_std</th>\n",
              "      <th>counter_number_min</th>\n",
              "      <th>counter_number_max</th>\n",
              "      <th>counter_statue_mean</th>\n",
              "      <th>counter_statue_std</th>\n",
              "      <th>counter_statue_min</th>\n",
              "      <th>counter_statue_max</th>\n",
              "      <th>counter_code_mean</th>\n",
              "      <th>counter_code_std</th>\n",
              "      <th>counter_code_min</th>\n",
              "      <th>counter_code_max</th>\n",
              "      <th>reading_remarque_mean</th>\n",
              "      <th>reading_remarque_std</th>\n",
              "      <th>reading_remarque_min</th>\n",
              "      <th>reading_remarque_max</th>\n",
              "      <th>consommation_level_1_mean</th>\n",
              "      <th>consommation_level_1_std</th>\n",
              "      <th>consommation_level_1_min</th>\n",
              "      <th>consommation_level_1_max</th>\n",
              "      <th>consommation_level_2_mean</th>\n",
              "      <th>consommation_level_2_std</th>\n",
              "      <th>consommation_level_2_min</th>\n",
              "      <th>consommation_level_2_max</th>\n",
              "      <th>consommation_level_3_mean</th>\n",
              "      <th>consommation_level_3_std</th>\n",
              "      <th>consommation_level_3_min</th>\n",
              "      <th>consommation_level_3_max</th>\n",
              "      <th>consommation_level_4_mean</th>\n",
              "      <th>consommation_level_4_std</th>\n",
              "      <th>consommation_level_4_min</th>\n",
              "      <th>consommation_level_4_max</th>\n",
              "      <th>old_index_mean</th>\n",
              "      <th>old_index_std</th>\n",
              "      <th>old_index_min</th>\n",
              "      <th>old_index_max</th>\n",
              "      <th>new_index_mean</th>\n",
              "      <th>new_index_std</th>\n",
              "      <th>new_index_min</th>\n",
              "      <th>new_index_max</th>\n",
              "      <th>months_number_mean</th>\n",
              "      <th>months_number_std</th>\n",
              "      <th>months_number_min</th>\n",
              "      <th>months_number_max</th>\n",
              "      <th>counter_type_mean</th>\n",
              "      <th>counter_type_std</th>\n",
              "      <th>counter_type_min</th>\n",
              "      <th>counter_type_max</th>\n",
              "      <th>invoice_month_mean</th>\n",
              "      <th>invoice_month_std</th>\n",
              "      <th>invoice_month_min</th>\n",
              "      <th>invoice_month_max</th>\n",
              "      <th>invoice_year_mean</th>\n",
              "      <th>invoice_year_std</th>\n",
              "      <th>invoice_year_min</th>\n",
              "      <th>invoice_year_max</th>\n",
              "      <th>delta_index_mean</th>\n",
              "      <th>delta_index_std</th>\n",
              "      <th>delta_index_min</th>\n",
              "      <th>delta_index_max</th>\n",
              "      <th>delta_time_mean</th>\n",
              "      <th>delta_time_std</th>\n",
              "      <th>delta_time_min</th>\n",
              "      <th>delta_time_max</th>\n",
              "      <th>invoice_per_cooperation</th>\n",
              "    </tr>\n",
              "  </thead>\n",
              "  <tbody>\n",
              "  </tbody>\n",
              "</table>\n",
              "</div>"
            ],
            "text/plain": [
              "Empty DataFrame\n",
              "Columns: [disrict, client_id, client_catg, region, creation_date, region_group, coop_time, is_weekday_mean, transactions_count, tarif_type_mean, tarif_type_std, tarif_type_min, tarif_type_max, counter_number_mean, counter_number_std, counter_number_min, counter_number_max, counter_statue_mean, counter_statue_std, counter_statue_min, counter_statue_max, counter_code_mean, counter_code_std, counter_code_min, counter_code_max, reading_remarque_mean, reading_remarque_std, reading_remarque_min, reading_remarque_max, consommation_level_1_mean, consommation_level_1_std, consommation_level_1_min, consommation_level_1_max, consommation_level_2_mean, consommation_level_2_std, consommation_level_2_min, consommation_level_2_max, consommation_level_3_mean, consommation_level_3_std, consommation_level_3_min, consommation_level_3_max, consommation_level_4_mean, consommation_level_4_std, consommation_level_4_min, consommation_level_4_max, old_index_mean, old_index_std, old_index_min, old_index_max, new_index_mean, new_index_std, new_index_min, new_index_max, months_number_mean, months_number_std, months_number_min, months_number_max, counter_type_mean, counter_type_std, counter_type_min, counter_type_max, invoice_month_mean, invoice_month_std, invoice_month_min, invoice_month_max, invoice_year_mean, invoice_year_std, invoice_year_min, invoice_year_max, delta_index_mean, delta_index_std, delta_index_min, delta_index_max, delta_time_mean, delta_time_std, delta_time_min, delta_time_max, invoice_per_cooperation]\n",
              "Index: []"
            ]
          },
          "metadata": {
            "tags": []
          },
          "execution_count": 219
        }
      ]
    },
    {
      "cell_type": "markdown",
      "metadata": {
        "id": "xBgP6GlYPHUs"
      },
      "source": [
        "Also we created statistical 'max_mean' and 'range' features which noticeably improved score"
      ]
    },
    {
      "cell_type": "code",
      "metadata": {
        "trusted": true,
        "id": "GaTlb1UxPHUe"
      },
      "source": [
        "def new_features(df):\n",
        "    for col in agg_stat_columns:\n",
        "        df[col+'_range'] = df[col+'_max'] - df[col+'_min']\n",
        "        df[col+'_max_mean'] = df[col+'_max']/df[col+'_mean']\n",
        "    return df"
      ],
      "execution_count": null,
      "outputs": []
    },
    {
      "cell_type": "code",
      "metadata": {
        "trusted": true,
        "id": "pVZJFfx8PHUv"
      },
      "source": [
        "train_df2 = new_features(train_df1)\n",
        "test_df2 = new_features(test_df1)"
      ],
      "execution_count": null,
      "outputs": []
    },
    {
      "cell_type": "code",
      "metadata": {
        "id": "YpCl9TBu349x"
      },
      "source": [
        "test_df2 = test_df2.apply(lambda x:x.fillna(x.value_counts().index[0]))\n",
        "train_df2 = train_df2.apply(lambda x:x.fillna(x.value_counts().index[0]))"
      ],
      "execution_count": null,
      "outputs": []
    },
    {
      "cell_type": "markdown",
      "metadata": {
        "id": "mGsmxPprPHUy"
      },
      "source": [
        "Now let's review how many features did we create:"
      ]
    },
    {
      "cell_type": "code",
      "metadata": {
        "trusted": true,
        "colab": {
          "base_uri": "https://localhost:8080/"
        },
        "id": "_zwGyx2oPHU5",
        "outputId": "e031c921-a8b9-426d-f60b-0ae8f88f6720"
      },
      "source": [
        "print('Initial number of columns: ', len(client_train.columns)+len(invoice_train.columns))\n",
        "print('Number of columns now: ', len(train_df2.columns))"
      ],
      "execution_count": null,
      "outputs": [
        {
          "output_type": "stream",
          "text": [
            "Initial number of columns:  29\n",
            "Number of columns now:  79\n"
          ],
          "name": "stdout"
        }
      ]
    },
    {
      "cell_type": "code",
      "metadata": {
        "trusted": true,
        "id": "vN7TIzX-PHU9"
      },
      "source": [
        "def drop(df):\n",
        "\n",
        "    col_drop = ['client_id', 'creation_date']\n",
        "    for col in col_drop:\n",
        "        df.drop([col], axis=1, inplace=True)\n",
        "    return df"
      ],
      "execution_count": null,
      "outputs": []
    },
    {
      "cell_type": "markdown",
      "metadata": {
        "id": "QAXnkyxVPHU_"
      },
      "source": [
        "* we dropped some unnessesary columns in next few cells\n",
        "* 'drop_col' array was made after using feature selection"
      ]
    },
    {
      "cell_type": "code",
      "metadata": {
        "trusted": true,
        "id": "TiVaYtVfPHVA"
      },
      "source": [
        "train_df = drop(train_df2)\n",
        "test_df = drop(test_df2)"
      ],
      "execution_count": null,
      "outputs": []
    },
    {
      "cell_type": "code",
      "metadata": {
        "id": "CJPRDdoheX7O",
        "colab": {
          "base_uri": "https://localhost:8080/",
          "height": 99
        },
        "outputId": "ff964330-f3a1-434b-d805-6930af120fae"
      },
      "source": [
        "#Has it a NaN in the dataset?\n",
        "train_df_na = train_df[train_df.isnull().any(axis=1)]\n",
        "train_df_na.head()"
      ],
      "execution_count": null,
      "outputs": [
        {
          "output_type": "execute_result",
          "data": {
            "text/html": [
              "<div>\n",
              "<style scoped>\n",
              "    .dataframe tbody tr th:only-of-type {\n",
              "        vertical-align: middle;\n",
              "    }\n",
              "\n",
              "    .dataframe tbody tr th {\n",
              "        vertical-align: top;\n",
              "    }\n",
              "\n",
              "    .dataframe thead th {\n",
              "        text-align: right;\n",
              "    }\n",
              "</style>\n",
              "<table border=\"1\" class=\"dataframe\">\n",
              "  <thead>\n",
              "    <tr style=\"text-align: right;\">\n",
              "      <th></th>\n",
              "      <th>disrict</th>\n",
              "      <th>client_catg</th>\n",
              "      <th>region</th>\n",
              "      <th>target</th>\n",
              "      <th>region_group</th>\n",
              "      <th>coop_time</th>\n",
              "      <th>is_weekday_mean</th>\n",
              "      <th>transactions_count</th>\n",
              "      <th>tarif_type_mean</th>\n",
              "      <th>tarif_type_std</th>\n",
              "      <th>tarif_type_min</th>\n",
              "      <th>tarif_type_max</th>\n",
              "      <th>counter_number_mean</th>\n",
              "      <th>counter_number_std</th>\n",
              "      <th>counter_number_min</th>\n",
              "      <th>counter_number_max</th>\n",
              "      <th>counter_statue_mean</th>\n",
              "      <th>counter_statue_std</th>\n",
              "      <th>counter_statue_min</th>\n",
              "      <th>counter_statue_max</th>\n",
              "      <th>counter_code_mean</th>\n",
              "      <th>counter_code_std</th>\n",
              "      <th>counter_code_min</th>\n",
              "      <th>counter_code_max</th>\n",
              "      <th>reading_remarque_mean</th>\n",
              "      <th>reading_remarque_std</th>\n",
              "      <th>reading_remarque_min</th>\n",
              "      <th>reading_remarque_max</th>\n",
              "      <th>consommation_level_1_mean</th>\n",
              "      <th>consommation_level_1_std</th>\n",
              "      <th>consommation_level_1_min</th>\n",
              "      <th>consommation_level_1_max</th>\n",
              "      <th>consommation_level_2_mean</th>\n",
              "      <th>consommation_level_2_std</th>\n",
              "      <th>consommation_level_2_min</th>\n",
              "      <th>consommation_level_2_max</th>\n",
              "      <th>consommation_level_3_mean</th>\n",
              "      <th>consommation_level_3_std</th>\n",
              "      <th>consommation_level_3_min</th>\n",
              "      <th>consommation_level_3_max</th>\n",
              "      <th>...</th>\n",
              "      <th>delta_index_std</th>\n",
              "      <th>delta_index_min</th>\n",
              "      <th>delta_index_max</th>\n",
              "      <th>delta_time_mean</th>\n",
              "      <th>delta_time_std</th>\n",
              "      <th>delta_time_min</th>\n",
              "      <th>delta_time_max</th>\n",
              "      <th>invoice_per_cooperation</th>\n",
              "      <th>tarif_type_range</th>\n",
              "      <th>tarif_type_max_mean</th>\n",
              "      <th>counter_number_range</th>\n",
              "      <th>counter_number_max_mean</th>\n",
              "      <th>counter_statue_range</th>\n",
              "      <th>counter_statue_max_mean</th>\n",
              "      <th>counter_code_range</th>\n",
              "      <th>counter_code_max_mean</th>\n",
              "      <th>reading_remarque_range</th>\n",
              "      <th>reading_remarque_max_mean</th>\n",
              "      <th>consommation_level_1_range</th>\n",
              "      <th>consommation_level_1_max_mean</th>\n",
              "      <th>consommation_level_2_range</th>\n",
              "      <th>consommation_level_2_max_mean</th>\n",
              "      <th>consommation_level_3_range</th>\n",
              "      <th>consommation_level_3_max_mean</th>\n",
              "      <th>consommation_level_4_range</th>\n",
              "      <th>consommation_level_4_max_mean</th>\n",
              "      <th>old_index_range</th>\n",
              "      <th>old_index_max_mean</th>\n",
              "      <th>new_index_range</th>\n",
              "      <th>new_index_max_mean</th>\n",
              "      <th>months_number_range</th>\n",
              "      <th>months_number_max_mean</th>\n",
              "      <th>counter_type_range</th>\n",
              "      <th>counter_type_max_mean</th>\n",
              "      <th>invoice_month_range</th>\n",
              "      <th>invoice_month_max_mean</th>\n",
              "      <th>invoice_year_range</th>\n",
              "      <th>invoice_year_max_mean</th>\n",
              "      <th>delta_index_range</th>\n",
              "      <th>delta_index_max_mean</th>\n",
              "    </tr>\n",
              "  </thead>\n",
              "  <tbody>\n",
              "  </tbody>\n",
              "</table>\n",
              "<p>0 rows × 109 columns</p>\n",
              "</div>"
            ],
            "text/plain": [
              "Empty DataFrame\n",
              "Columns: [disrict, client_catg, region, target, region_group, coop_time, is_weekday_mean, transactions_count, tarif_type_mean, tarif_type_std, tarif_type_min, tarif_type_max, counter_number_mean, counter_number_std, counter_number_min, counter_number_max, counter_statue_mean, counter_statue_std, counter_statue_min, counter_statue_max, counter_code_mean, counter_code_std, counter_code_min, counter_code_max, reading_remarque_mean, reading_remarque_std, reading_remarque_min, reading_remarque_max, consommation_level_1_mean, consommation_level_1_std, consommation_level_1_min, consommation_level_1_max, consommation_level_2_mean, consommation_level_2_std, consommation_level_2_min, consommation_level_2_max, consommation_level_3_mean, consommation_level_3_std, consommation_level_3_min, consommation_level_3_max, consommation_level_4_mean, consommation_level_4_std, consommation_level_4_min, consommation_level_4_max, old_index_mean, old_index_std, old_index_min, old_index_max, new_index_mean, new_index_std, new_index_min, new_index_max, months_number_mean, months_number_std, months_number_min, months_number_max, counter_type_mean, counter_type_std, counter_type_min, counter_type_max, invoice_month_mean, invoice_month_std, invoice_month_min, invoice_month_max, invoice_year_mean, invoice_year_std, invoice_year_min, invoice_year_max, delta_index_mean, delta_index_std, delta_index_min, delta_index_max, delta_time_mean, delta_time_std, delta_time_min, delta_time_max, invoice_per_cooperation, tarif_type_range, tarif_type_max_mean, counter_number_range, counter_number_max_mean, counter_statue_range, counter_statue_max_mean, counter_code_range, counter_code_max_mean, reading_remarque_range, reading_remarque_max_mean, consommation_level_1_range, consommation_level_1_max_mean, consommation_level_2_range, consommation_level_2_max_mean, consommation_level_3_range, consommation_level_3_max_mean, consommation_level_4_range, consommation_level_4_max_mean, old_index_range, old_index_max_mean, new_index_range, new_index_max_mean, months_number_range, ...]\n",
              "Index: []\n",
              "\n",
              "[0 rows x 109 columns]"
            ]
          },
          "metadata": {
            "tags": []
          },
          "execution_count": 15
        }
      ]
    },
    {
      "cell_type": "code",
      "metadata": {
        "trusted": true,
        "id": "AuatF_YIPHVC"
      },
      "source": [
        "y = train_df['target']\n",
        "X = train_df.drop('target',axis=1)\n",
        "\n",
        "feature_name = X.columns.tolist()"
      ],
      "execution_count": null,
      "outputs": []
    },
    {
      "cell_type": "code",
      "metadata": {
        "id": "Hvu1W0h4XN82"
      },
      "source": [
        "y = np.where(y==0.0,0,1)"
      ],
      "execution_count": null,
      "outputs": []
    },
    {
      "cell_type": "code",
      "metadata": {
        "trusted": true,
        "id": "42Z8CiAnPHVN"
      },
      "source": [
        "drop_col=['reading_remarque_max','counter_statue_min','counter_type_min','counter_type_max','counter_type_range',\n",
        "          'tarif_type_max', 'delta_index_min', 'consommation_level_4_mean']\n",
        "'''\n",
        "drop_col=['reading_remarque_max','counter_statue_min',\n",
        "          'tarif_type_max', 'delta_index_min']\n",
        "'''\n",
        "\n",
        "test_df = test_df.drop(drop_col, axis=1)\n",
        "X = X.drop(drop_col, axis=1)"
      ],
      "execution_count": null,
      "outputs": []
    },
    {
      "cell_type": "code",
      "metadata": {
        "colab": {
          "base_uri": "https://localhost:8080/"
        },
        "id": "bT5YvPpep1BQ",
        "outputId": "afa71aa1-e852-4017-e692-da6f9160060b"
      },
      "source": [
        "(test_df.shape,X.shape)"
      ],
      "execution_count": null,
      "outputs": [
        {
          "output_type": "execute_result",
          "data": {
            "text/plain": [
              "((58069, 100), (135493, 100))"
            ]
          },
          "metadata": {
            "tags": []
          },
          "execution_count": 19
        }
      ]
    },
    {
      "cell_type": "code",
      "metadata": {
        "colab": {
          "base_uri": "https://localhost:8080/"
        },
        "id": "1si5Trj1cNZl",
        "outputId": "0005489a-3e20-476d-8882-283182850b79"
      },
      "source": [
        "X.isnull().values.sum()"
      ],
      "execution_count": null,
      "outputs": [
        {
          "output_type": "execute_result",
          "data": {
            "text/plain": [
              "0"
            ]
          },
          "metadata": {
            "tags": []
          },
          "execution_count": 20
        }
      ]
    },
    {
      "cell_type": "markdown",
      "metadata": {
        "id": "9Y-etIsqPHVP"
      },
      "source": [
        "<h2>Modelling</h2>\n",
        "\n",
        "* we used [optuna](https://optuna.org/) for hyperparameters tuning\n",
        "* it was performed with respect to StratifiedKFold cross validation on 5 folds\n",
        "* you can check parameters for tuning and their final values in cells below"
      ]
    },
    {
      "cell_type": "code",
      "metadata": {
        "id": "CLRv2j4BVXyw"
      },
      "source": [
        "!pip install optuna"
      ],
      "execution_count": null,
      "outputs": []
    },
    {
      "cell_type": "code",
      "metadata": {
        "trusted": true,
        "id": "WQ83oUtKPHVR"
      },
      "source": [
        "from optuna import Trial\n",
        "import gc\n",
        "import optuna\n",
        "from sklearn.model_selection import train_test_split\n",
        "import lightgbm as lgb\n",
        "\n",
        "category_cols = ['disrict', 'client_catg', 'region']\n",
        "\n",
        "def objective(trial:Trial):\n",
        "    \n",
        "    gc.collect()\n",
        "    models=[]\n",
        "    validScore=0\n",
        "   \n",
        "    model,log = fitLGBM(trial,X,y)\n",
        "    \n",
        "    models.append(model)\n",
        "    gc.collect()\n",
        "    validScore+=log\n",
        "    validScore/=len(models)\n",
        "    \n",
        "    return validScore"
      ],
      "execution_count": null,
      "outputs": []
    },
    {
      "cell_type": "code",
      "metadata": {
        "trusted": true,
        "id": "zp5L7aXQPHVT"
      },
      "source": [
        "def fitLGBM(trial,X, y):\n",
        "    best_threshold = 0.5\n",
        "    best_score = 0\n",
        "    params={\n",
        "      'n_estimators':trial.suggest_int('n_estimators', 0, 1000), \n",
        "      'num_leaves':trial.suggest_int('num_leaves', 2, 512),\n",
        "      'max_depth':trial.suggest_int('max_depth', 2, 128),\n",
        "      'learning_rate': trial.suggest_loguniform('learning_rate', 0.001, 0.15),\n",
        "      'min_split_gain': trial.suggest_loguniform('min_split_gain', 0.001, 0.1),\n",
        "      'feature_fraction':trial.suggest_uniform('feature_fraction',0.1, 1.0),\n",
        "      'bagging_freq':trial.suggest_int('bagging_freq',0.1,10),\n",
        "      'verbosity': -1,\n",
        "      'random_state':seed\n",
        "            }\n",
        "    stkfold = StratifiedKFold(n_splits=5, shuffle=True, random_state=seed)\n",
        "    model = LGBMClassifier(**params)\n",
        "    \n",
        "    res=[]\n",
        "    for i, (tdx, vdx) in enumerate(stkfold.split(X, y)):\n",
        "        X_train, X_valid, y_train, y_valid = X.iloc[tdx], X.iloc[vdx], y[tdx], y[vdx]\n",
        "        model.fit(X_train, y_train,\n",
        "                 eval_set=[(X_train, y_train), (X_valid, y_valid)],\n",
        "                 early_stopping_rounds=30, verbose=False)\n",
        "        preds = model.predict_proba(X_valid)\n",
        "        precision, recall, thresholds = precision_recall_curve(y_valid, preds[:,1])\n",
        "        fscore = (2 * precision * recall) / (precision + recall)\n",
        "        index = np.argmax(fscore)\n",
        "        thresholdOpt = round(thresholds[index], ndigits = 4)\n",
        "        fscoreOpt = round(fscore[index], ndigits = 4)\n",
        "        if(fscoreOpt>best_score):\n",
        "          best_score = fscoreOpt\n",
        "          best_threshold = thresholdOpt\n",
        "        res.append(fscoreOpt)\n",
        "    \n",
        "    err = np.mean(res)\n",
        "    \n",
        "    return model, err , best_score, best_threshold"
      ],
      "execution_count": null,
      "outputs": []
    },
    {
      "cell_type": "code",
      "metadata": {
        "trusted": true,
        "id": "kpnjxLnIPHVU"
      },
      "source": [
        "study = optuna.create_study(direction='maximize', pruner=optuna.pruners.MedianPruner(n_warmup_steps=5))\n",
        "study.optimize(objective, n_trials=50)\n",
        "study.best_params"
      ],
      "execution_count": null,
      "outputs": []
    },
    {
      "cell_type": "code",
      "metadata": {
        "id": "TBjglWh1VqQA"
      },
      "source": [
        "#Best params with 50 trials. May be more trials can get better result. \n",
        "#{'n_estimators': 902, 'num_leaves': 125, 'max_depth': 106, 'learning_rate': 0.09519775096900134, 'min_split_gain': 0.0019903163135690494, 'feature_fraction': 0.7159531407543521, 'bagging_freq': 7}. Best is trial 33 with value: 0.3113639033806024."
      ],
      "execution_count": null,
      "outputs": []
    },
    {
      "cell_type": "code",
      "metadata": {
        "id": "bpHFNv6wzXTo"
      },
      "source": [
        "def optimizeThreshold(preds,test):\n",
        "  best_threshold = 0.5\n",
        "  best_score = 0.2\n",
        "  for i in range(1 , 10):\n",
        "    pred_tmp = np.where(preds >= (i/10) , 1 ,0)\n",
        "    cost = f1_score(pred_tmp,test)\n",
        "    if(cost > best_score ):\n",
        "      best_score = cost\n",
        "      best_threshold = i/10\n",
        "  return best_threshold, best_score  "
      ],
      "execution_count": null,
      "outputs": []
    },
    {
      "cell_type": "code",
      "metadata": {
        "trusted": true,
        "id": "nTkHE8jzPHVb"
      },
      "source": [
        "model = LGBMClassifier(random_state=seed, n_estimators=902,num_leaves=125, max_depth=106,\n",
        "                       learning_rate=0.09519775096900134, min_split_gain=0.0019903163135690494, \n",
        "                       feature_fraction=0.7159531407543521, bagging_freq=7)\n",
        "\n",
        "stkfold = StratifiedKFold(n_splits=5, shuffle=True, random_state=seed)\n",
        "\n",
        "def calc(X, y, model, cv):\n",
        "    best_threshold = 0.5\n",
        "    best_score = 0\n",
        "    local_probs=pd.DataFrame()\n",
        "    probs = pd.DataFrame()\n",
        "\n",
        "    for i, (tdx, vdx) in enumerate(cv.split(X, y)):\n",
        "        X_train, X_valid, y_train, y_valid = X.iloc[tdx], X.iloc[vdx], y[tdx], y[vdx]\n",
        "        model.fit(X_train, y_train,\n",
        "                 eval_set=[(X_train, y_train), (X_valid, y_valid)],\n",
        "                 early_stopping_rounds=30, verbose=False)\n",
        "        \n",
        "        preds = model.predict_proba(X_valid)\n",
        "        oof_predict = model.predict_proba(test_df)\n",
        "        local_probs['fold_%i'%i] = oof_predict[:,1]\n",
        "        precision, recall, thresholds = precision_recall_curve(y_valid, preds[:,1])\n",
        "        fscore = (2 * precision * recall) / (precision + recall)\n",
        "        index = np.argmax(fscore)\n",
        "        thresholdOpt = round(thresholds[index], ndigits = 4)\n",
        "        fscoreOpt = round(fscore[index], ndigits = 4)\n",
        "        if(fscoreOpt>best_score):\n",
        "          best_score = fscoreOpt\n",
        "          best_threshold = thresholdOpt\n",
        "          probs['best_target'] =  oof_predict[:,1]\n",
        "    print('F1 Score:', best_score)    \n",
        "    local_probs['res'] = local_probs.mean(axis=1)\n",
        "    probs['target'] = local_probs['res']\n",
        "    \n",
        "    return probs, best_threshold, best_score,"
      ],
      "execution_count": null,
      "outputs": []
    },
    {
      "cell_type": "markdown",
      "metadata": {
        "id": "VYjhzFVcPHVd"
      },
      "source": [
        "<h2>Prediction and submission</h2>\n",
        "\n",
        "In the next few cells you can see our local cross validation which almost match  LB score"
      ]
    },
    {
      "cell_type": "code",
      "metadata": {
        "trusted": true,
        "colab": {
          "base_uri": "https://localhost:8080/"
        },
        "id": "qi312G1oPHVf",
        "outputId": "2c23b8f5-a281-4c2a-f8e8-01c01e5d021e"
      },
      "source": [
        "%%time\n",
        "probs , threshold , score = calc(X, y, model, stkfold)\n"
      ],
      "execution_count": null,
      "outputs": [
        {
          "output_type": "stream",
          "text": [
            "F1 Score: 0.4461\n",
            "CPU times: user 1min 58s, sys: 1.08 s, total: 1min 59s\n",
            "Wall time: 1min 2s\n"
          ],
          "name": "stdout"
        },
        {
          "output_type": "stream",
          "text": [
            "/usr/local/lib/python3.6/dist-packages/ipykernel_launcher.py:23: RuntimeWarning:\n",
            "\n",
            "invalid value encountered in true_divide\n",
            "\n"
          ],
          "name": "stderr"
        }
      ]
    },
    {
      "cell_type": "code",
      "metadata": {
        "colab": {
          "base_uri": "https://localhost:8080/"
        },
        "id": "9hPQUbrT2B3X",
        "outputId": "1fccf299-831d-41b2-afb1-592fdb558edd"
      },
      "source": [
        "score"
      ],
      "execution_count": null,
      "outputs": [
        {
          "output_type": "execute_result",
          "data": {
            "text/plain": [
              "0.4461"
            ]
          },
          "metadata": {
            "tags": []
          },
          "execution_count": 27
        }
      ]
    },
    {
      "cell_type": "code",
      "metadata": {
        "colab": {
          "base_uri": "https://localhost:8080/"
        },
        "id": "iAhDaynE2G7w",
        "outputId": "e82d4c16-06ba-4963-c0ef-7ad015824c11"
      },
      "source": [
        "threshold"
      ],
      "execution_count": null,
      "outputs": [
        {
          "output_type": "execute_result",
          "data": {
            "text/plain": [
              "0.2026"
            ]
          },
          "metadata": {
            "tags": []
          },
          "execution_count": 28
        }
      ]
    },
    {
      "cell_type": "code",
      "metadata": {
        "colab": {
          "base_uri": "https://localhost:8080/",
          "height": 424
        },
        "id": "FcDmYFXpbXZm",
        "outputId": "7a75473d-1dde-4c37-e74f-2da766567a73"
      },
      "source": [
        "probs"
      ],
      "execution_count": null,
      "outputs": [
        {
          "output_type": "execute_result",
          "data": {
            "text/html": [
              "<div>\n",
              "<style scoped>\n",
              "    .dataframe tbody tr th:only-of-type {\n",
              "        vertical-align: middle;\n",
              "    }\n",
              "\n",
              "    .dataframe tbody tr th {\n",
              "        vertical-align: top;\n",
              "    }\n",
              "\n",
              "    .dataframe thead th {\n",
              "        text-align: right;\n",
              "    }\n",
              "</style>\n",
              "<table border=\"1\" class=\"dataframe\">\n",
              "  <thead>\n",
              "    <tr style=\"text-align: right;\">\n",
              "      <th></th>\n",
              "      <th>best_target</th>\n",
              "      <th>target</th>\n",
              "    </tr>\n",
              "  </thead>\n",
              "  <tbody>\n",
              "    <tr>\n",
              "      <th>0</th>\n",
              "      <td>0.031899</td>\n",
              "      <td>0.024195</td>\n",
              "    </tr>\n",
              "    <tr>\n",
              "      <th>1</th>\n",
              "      <td>0.094155</td>\n",
              "      <td>0.112364</td>\n",
              "    </tr>\n",
              "    <tr>\n",
              "      <th>2</th>\n",
              "      <td>0.012552</td>\n",
              "      <td>0.015091</td>\n",
              "    </tr>\n",
              "    <tr>\n",
              "      <th>3</th>\n",
              "      <td>0.002532</td>\n",
              "      <td>0.004478</td>\n",
              "    </tr>\n",
              "    <tr>\n",
              "      <th>4</th>\n",
              "      <td>0.052800</td>\n",
              "      <td>0.040321</td>\n",
              "    </tr>\n",
              "    <tr>\n",
              "      <th>...</th>\n",
              "      <td>...</td>\n",
              "      <td>...</td>\n",
              "    </tr>\n",
              "    <tr>\n",
              "      <th>58064</th>\n",
              "      <td>0.000772</td>\n",
              "      <td>0.001658</td>\n",
              "    </tr>\n",
              "    <tr>\n",
              "      <th>58065</th>\n",
              "      <td>0.015775</td>\n",
              "      <td>0.016441</td>\n",
              "    </tr>\n",
              "    <tr>\n",
              "      <th>58066</th>\n",
              "      <td>0.565627</td>\n",
              "      <td>0.601604</td>\n",
              "    </tr>\n",
              "    <tr>\n",
              "      <th>58067</th>\n",
              "      <td>0.002409</td>\n",
              "      <td>0.004253</td>\n",
              "    </tr>\n",
              "    <tr>\n",
              "      <th>58068</th>\n",
              "      <td>0.079163</td>\n",
              "      <td>0.066106</td>\n",
              "    </tr>\n",
              "  </tbody>\n",
              "</table>\n",
              "<p>58069 rows × 2 columns</p>\n",
              "</div>"
            ],
            "text/plain": [
              "       best_target    target\n",
              "0         0.031899  0.024195\n",
              "1         0.094155  0.112364\n",
              "2         0.012552  0.015091\n",
              "3         0.002532  0.004478\n",
              "4         0.052800  0.040321\n",
              "...            ...       ...\n",
              "58064     0.000772  0.001658\n",
              "58065     0.015775  0.016441\n",
              "58066     0.565627  0.601604\n",
              "58067     0.002409  0.004253\n",
              "58068     0.079163  0.066106\n",
              "\n",
              "[58069 rows x 2 columns]"
            ]
          },
          "metadata": {
            "tags": []
          },
          "execution_count": 29
        }
      ]
    },
    {
      "cell_type": "code",
      "metadata": {
        "trusted": true,
        "id": "H_4IQDNxPHVi"
      },
      "source": [
        "submission = pd.DataFrame({\n",
        "        \"client_id\": sample_submission[\"client_id\"],\n",
        "        \"target\":np.where(probs['target'] >= threshold, 1 ,0)\n",
        "    })\n",
        "submission.to_csv('submission.csv', index=False)"
      ],
      "execution_count": null,
      "outputs": []
    },
    {
      "cell_type": "code",
      "metadata": {
        "id": "X0T44kipeAJw",
        "colab": {
          "base_uri": "https://localhost:8080/",
          "height": 206
        },
        "outputId": "919567e8-5766-4245-e228-b3a3d9a35658"
      },
      "source": [
        "test_submit = pd.read_csv('submission.csv')\n",
        "test_submit.head()\n"
      ],
      "execution_count": null,
      "outputs": [
        {
          "output_type": "execute_result",
          "data": {
            "text/html": [
              "<div>\n",
              "<style scoped>\n",
              "    .dataframe tbody tr th:only-of-type {\n",
              "        vertical-align: middle;\n",
              "    }\n",
              "\n",
              "    .dataframe tbody tr th {\n",
              "        vertical-align: top;\n",
              "    }\n",
              "\n",
              "    .dataframe thead th {\n",
              "        text-align: right;\n",
              "    }\n",
              "</style>\n",
              "<table border=\"1\" class=\"dataframe\">\n",
              "  <thead>\n",
              "    <tr style=\"text-align: right;\">\n",
              "      <th></th>\n",
              "      <th>client_id</th>\n",
              "      <th>target</th>\n",
              "    </tr>\n",
              "  </thead>\n",
              "  <tbody>\n",
              "    <tr>\n",
              "      <th>0</th>\n",
              "      <td>test_Client_0</td>\n",
              "      <td>0</td>\n",
              "    </tr>\n",
              "    <tr>\n",
              "      <th>1</th>\n",
              "      <td>test_Client_1</td>\n",
              "      <td>0</td>\n",
              "    </tr>\n",
              "    <tr>\n",
              "      <th>2</th>\n",
              "      <td>test_Client_10</td>\n",
              "      <td>0</td>\n",
              "    </tr>\n",
              "    <tr>\n",
              "      <th>3</th>\n",
              "      <td>test_Client_100</td>\n",
              "      <td>0</td>\n",
              "    </tr>\n",
              "    <tr>\n",
              "      <th>4</th>\n",
              "      <td>test_Client_1000</td>\n",
              "      <td>0</td>\n",
              "    </tr>\n",
              "  </tbody>\n",
              "</table>\n",
              "</div>"
            ],
            "text/plain": [
              "          client_id  target\n",
              "0     test_Client_0       0\n",
              "1     test_Client_1       0\n",
              "2    test_Client_10       0\n",
              "3   test_Client_100       0\n",
              "4  test_Client_1000       0"
            ]
          },
          "metadata": {
            "tags": []
          },
          "execution_count": 31
        }
      ]
    },
    {
      "cell_type": "code",
      "metadata": {
        "id": "77zTO8MersX7",
        "colab": {
          "base_uri": "https://localhost:8080/"
        },
        "outputId": "7324c450-28fc-4605-9a00-5cecaf663d18"
      },
      "source": [
        "test_submit.shape"
      ],
      "execution_count": null,
      "outputs": [
        {
          "output_type": "execute_result",
          "data": {
            "text/plain": [
              "(58069, 2)"
            ]
          },
          "metadata": {
            "tags": []
          },
          "execution_count": 32
        }
      ]
    },
    {
      "cell_type": "code",
      "metadata": {
        "id": "ImjfhPhTXV0D"
      },
      "source": [
        "#Best soumission : soumission_23.csv , F1 score = 0.4397"
      ],
      "execution_count": null,
      "outputs": []
    },
    {
      "cell_type": "markdown",
      "metadata": {
        "id": "T_e2QhPCXg8T"
      },
      "source": [
        "![Screenshot (271).png](data:image/png;base64,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)"
      ]
    },
    {
      "cell_type": "code",
      "metadata": {
        "id": "hr-ACbt4YGd-"
      },
      "source": [
        "#2nd Place"
      ],
      "execution_count": null,
      "outputs": []
    },
    {
      "cell_type": "markdown",
      "metadata": {
        "id": "PJTxXRcBXymE"
      },
      "source": [
        "![image.png](data:image/png;base64,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)"
      ]
    }
  ]
}